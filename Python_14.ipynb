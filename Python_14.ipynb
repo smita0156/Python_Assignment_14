{
 "cells": [
  {
   "cell_type": "code",
   "execution_count": null,
   "id": "33dfa235-b398-4401-b604-c90be8237765",
   "metadata": {},
   "outputs": [],
   "source": [
    "1. What does RGBA stand for?"
   ]
  },
  {
   "cell_type": "code",
   "execution_count": null,
   "id": "4b729fc8-9aef-4901-aefb-a98a249d84fa",
   "metadata": {},
   "outputs": [],
   "source": [
    "Ans.\n",
    "\n",
    "RGBA stands for red, green, blue, and alpha (transparency) in the color\n",
    "An RGBA value is a tuple of 4 integers, each ranging from 0 to 255. The four integers correspond\n",
    "to the amount of red, green, blue, and alpha (transparency) in the color"
   ]
  },
  {
   "cell_type": "code",
   "execution_count": null,
   "id": "4136e270-369a-49c1-bec2-82e9096154f6",
   "metadata": {},
   "outputs": [],
   "source": [
    "2. From the Pillow module, how do you get the RGBA value of any images?"
   ]
  },
  {
   "cell_type": "code",
   "execution_count": 1,
   "id": "b49e2cc4-ed69-40ed-b283-de6e96d563ec",
   "metadata": {},
   "outputs": [
    {
     "data": {
      "text/plain": [
       "(255, 0, 0, 255)"
      ]
     },
     "execution_count": 1,
     "metadata": {},
     "output_type": "execute_result"
    }
   ],
   "source": [
    "\n",
    "\n",
    "from PIL import ImageColor\n",
    "ImageColor.getcolor('green', 'RGBA')\n",
    "ImageColor.getcolor('red', 'RGBA')\n",
    "     "
   ]
  },
  {
   "cell_type": "code",
   "execution_count": null,
   "id": "b5c9e226-372a-4be1-87b6-43e2417539ab",
   "metadata": {},
   "outputs": [],
   "source": [
    "3. What is a box tuple, and how does it work?"
   ]
  },
  {
   "cell_type": "code",
   "execution_count": null,
   "id": "0edf26d4-adb9-4107-bbaa-f996d847c44c",
   "metadata": {},
   "outputs": [],
   "source": [
    "Ans. A box tuple is a tuple value of four integers: the left edge x-coordinate, the top edge y-coordinate, the width, and the height, respectively"
   ]
  },
  {
   "cell_type": "code",
   "execution_count": null,
   "id": "b3a4e630-74b8-4450-86b6-bc2aea3120a7",
   "metadata": {},
   "outputs": [],
   "source": [
    "4. Use your image and load in notebook then, How can you find out the width and height of an\n",
    "Image object?"
   ]
  },
  {
   "cell_type": "code",
   "execution_count": null,
   "id": "f7fcea00-e2c2-46ab-8c36-3336a6b4bff0",
   "metadata": {},
   "outputs": [],
   "source": [
    "\n",
    "from google.colab import files\n",
    "uploaded = files.upload()\n",
    "     "
   ]
  },
  {
   "cell_type": "code",
   "execution_count": null,
   "id": "3c856c84-8ad3-4c60-afb2-256eed4f5069",
   "metadata": {},
   "outputs": [],
   "source": [
    "Upload widget is only available when the cell has been executed in the current browser session. Please rerun this cell to enable.\n",
    "Saving shiva.jpg to shiva.jpg"
   ]
  },
  {
   "cell_type": "code",
   "execution_count": null,
   "id": "f6598b57-2fec-4727-a517-fbe821100511",
   "metadata": {},
   "outputs": [],
   "source": [
    "\n",
    "from PIL import Image\n",
    "myImg = Image.open('shiva.jpg')\n",
    "w,h = myImg.size\n",
    "w,h\n",
    "     \n"
   ]
  },
  {
   "cell_type": "code",
   "execution_count": null,
   "id": "492a9ada-6ad5-42cc-97a9-b25634b326be",
   "metadata": {},
   "outputs": [],
   "source": [
    "(3840, 2160)"
   ]
  },
  {
   "cell_type": "code",
   "execution_count": null,
   "id": "31a97459-8ff4-4fe7-8d85-f07c0a55ca13",
   "metadata": {},
   "outputs": [],
   "source": []
  },
  {
   "cell_type": "code",
   "execution_count": null,
   "id": "9a3d0566-4e24-4a09-85ef-6bacb35ab0db",
   "metadata": {},
   "outputs": [],
   "source": [
    "5. What method would you call to get Image object for a 100×100 image, excluding the lower-left\n",
    "quarter of it?"
   ]
  },
  {
   "cell_type": "code",
   "execution_count": null,
   "id": "3c7432ae-6538-42d7-b8dd-cc8fc6cbc8e2",
   "metadata": {},
   "outputs": [],
   "source": [
    "Ans. ImageObject.crop((0, 50, 50, 50))"
   ]
  },
  {
   "cell_type": "code",
   "execution_count": null,
   "id": "f21ae4df-b4d5-4519-bd0f-b9d79c65f5f1",
   "metadata": {},
   "outputs": [],
   "source": [
    "6. After making changes to an Image object, how could you save it as an image file?"
   ]
  },
  {
   "cell_type": "code",
   "execution_count": null,
   "id": "cba08b5f-8f45-4571-b7f3-0e83482a6019",
   "metadata": {},
   "outputs": [],
   "source": [
    "Ans. By Calling the imageObj.save('new_filename.png') method of the Image object."
   ]
  },
  {
   "cell_type": "code",
   "execution_count": null,
   "id": "6dc3cf74-e23b-4a7e-bbf4-8d61181d60f8",
   "metadata": {},
   "outputs": [],
   "source": [
    "7. What module contains Pillow’s shape-drawing code?"
   ]
  },
  {
   "cell_type": "code",
   "execution_count": null,
   "id": "aa20fa21-45b0-4ee4-9d46-6e5313776757",
   "metadata": {},
   "outputs": [],
   "source": [
    "Ans. The ImageDraw module contains code to draw on images"
   ]
  },
  {
   "cell_type": "code",
   "execution_count": null,
   "id": "b2228fc0-43aa-415d-8478-c785f13f1f0a",
   "metadata": {},
   "outputs": [],
   "source": [
    "8. Image objects do not have drawing methods. What kind of object does? How do you get this kind\n",
    "of object?"
   ]
  },
  {
   "cell_type": "code",
   "execution_count": null,
   "id": "546ef18b-60ef-4c20-8b48-8f74fbef6964",
   "metadata": {},
   "outputs": [],
   "source": [
    "Ans. ImageDraw objects have shape-drawing methods such as point(), line(), or rectangle(). They are returned by passing the Image object to the ImageDraw.Draw() function\n"
   ]
  }
 ],
 "metadata": {
  "kernelspec": {
   "display_name": "Python 3 (ipykernel)",
   "language": "python",
   "name": "python3"
  },
  "language_info": {
   "codemirror_mode": {
    "name": "ipython",
    "version": 3
   },
   "file_extension": ".py",
   "mimetype": "text/x-python",
   "name": "python",
   "nbconvert_exporter": "python",
   "pygments_lexer": "ipython3",
   "version": "3.10.6"
  }
 },
 "nbformat": 4,
 "nbformat_minor": 5
}
